{
 "cells": [
  {
   "cell_type": "markdown",
   "metadata": {},
   "source": [
    "# 위메프 베스트 상품 \n",
    "\n",
    "https://front.wemakeprice.com/best"
   ]
  },
  {
   "cell_type": "code",
   "execution_count": 3,
   "metadata": {},
   "outputs": [],
   "source": [
    "from selenium import webdriver\n",
    "from urllib.request import urlretrieve\n",
    "from urllib.request import urlopen"
   ]
  },
  {
   "cell_type": "markdown",
   "metadata": {},
   "source": [
    "## 1위 상품의 이미지를 저장하여라. "
   ]
  },
  {
   "cell_type": "code",
   "execution_count": 2,
   "metadata": {
    "collapsed": true
   },
   "outputs": [
    {
     "name": "stdout",
     "output_type": "stream",
     "text": [
      "https://front.wemakeprice.com/deal/605354747\n",
      "--------------------------------------------------\n",
      "https://front.wemakeprice.com/deal/605354747\n",
      "https://front.wemakeprice.com/deal/603562905\n",
      "https://front.wemakeprice.com/deal/603293739\n",
      "https://front.wemakeprice.com/deal/611364532\n",
      "https://front.wemakeprice.com/deal/614465280\n",
      "https://front.wemakeprice.com/deal/606656438\n",
      "https://front.wemakeprice.com/deal/605362875\n",
      "https://front.wemakeprice.com/deal/605362891\n",
      "https://front.wemakeprice.com/deal/615064041\n",
      "https://front.wemakeprice.com/product/1610508236\n",
      "https://front.wemakeprice.com/deal/608727722\n",
      "https://front.wemakeprice.com/deal/602997969\n",
      "https://front.wemakeprice.com/deal/613915176\n",
      "https://front.wemakeprice.com/deal/612650157\n",
      "https://front.wemakeprice.com/deal/615001453\n",
      "https://front.wemakeprice.com/deal/607409959\n",
      "https://front.wemakeprice.com/deal/609768443\n",
      "https://front.wemakeprice.com/deal/615131947\n",
      "https://front.wemakeprice.com/deal/615134979\n",
      "https://front.wemakeprice.com/deal/614363345\n",
      "https://front.wemakeprice.com/deal/615067977\n",
      "https://front.wemakeprice.com/deal/612891591\n",
      "https://front.wemakeprice.com/deal/606637303\n",
      "https://front.wemakeprice.com/deal/614359320\n",
      "https://front.wemakeprice.com/deal/614402995\n",
      "https://front.wemakeprice.com/deal/602686482\n",
      "https://front.wemakeprice.com/deal/614891025\n",
      "https://front.wemakeprice.com/deal/615134544\n",
      "https://front.wemakeprice.com/deal/615134576\n",
      "https://front.wemakeprice.com/deal/613919881\n",
      "https://front.wemakeprice.com/deal/612355730\n",
      "https://front.wemakeprice.com/deal/611370568\n",
      "https://front.wemakeprice.com/deal/605657077\n",
      "https://front.wemakeprice.com/deal/611260357\n",
      "https://front.wemakeprice.com/deal/609958279\n",
      "https://front.wemakeprice.com/deal/612797703\n",
      "https://front.wemakeprice.com/deal/603183656\n",
      "https://front.wemakeprice.com/deal/611310074\n",
      "https://front.wemakeprice.com/deal/615066937\n",
      "https://front.wemakeprice.com/deal/615095735\n",
      "https://front.wemakeprice.com/deal/609159926\n",
      "https://front.wemakeprice.com/deal/614542600\n",
      "https://front.wemakeprice.com/deal/614543424\n",
      "https://front.wemakeprice.com/deal/614989890\n",
      "https://front.wemakeprice.com/deal/613658303\n",
      "https://front.wemakeprice.com/deal/607084424\n",
      "https://front.wemakeprice.com/deal/611300890\n",
      "https://front.wemakeprice.com/deal/612873528\n",
      "https://front.wemakeprice.com/deal/615149076\n",
      "https://ticket.wemakeprice.com/product/3000005158\n",
      "https://front.wemakeprice.com/deal/613343319\n",
      "https://front.wemakeprice.com/deal/615133680\n",
      "https://front.wemakeprice.com/deal/612181869\n",
      "https://front.wemakeprice.com/deal/615152763\n",
      "https://front.wemakeprice.com/deal/614997069\n",
      "https://front.wemakeprice.com/deal/615062524\n",
      "https://front.wemakeprice.com/deal/615005904\n",
      "https://front.wemakeprice.com/deal/612725539\n",
      "https://front.wemakeprice.com/deal/615128413\n",
      "https://front.wemakeprice.com/deal/615153663\n",
      "https://front.wemakeprice.com/deal/615128400\n",
      "https://front.wemakeprice.com/deal/603021047\n",
      "https://front.wemakeprice.com/deal/615134524\n",
      "https://front.wemakeprice.com/deal/602682338\n",
      "https://front.wemakeprice.com/deal/614973920\n",
      "https://front.wemakeprice.com/deal/607434510\n",
      "https://front.wemakeprice.com/deal/603323049\n",
      "https://front.wemakeprice.com/deal/602456032\n",
      "https://front.wemakeprice.com/deal/614887945\n",
      "https://front.wemakeprice.com/deal/615007016\n",
      "https://front.wemakeprice.com/deal/614889611\n",
      "https://front.wemakeprice.com/deal/614995307\n",
      "https://front.wemakeprice.com/deal/614993773\n",
      "https://front.wemakeprice.com/deal/614632877\n",
      "https://front.wemakeprice.com/deal/614359235\n",
      "https://front.wemakeprice.com/deal/605856161\n",
      "https://front.wemakeprice.com/deal/615070920\n",
      "https://front.wemakeprice.com/product/1357172445\n",
      "https://front.wemakeprice.com/deal/612708369\n",
      "https://front.wemakeprice.com/deal/615061725\n",
      "https://front.wemakeprice.com/deal/615147120\n",
      "https://front.wemakeprice.com/deal/615134611\n",
      "https://front.wemakeprice.com/deal/600125530\n",
      "https://front.wemakeprice.com/product/1495608320\n",
      "https://front.wemakeprice.com/deal/613734359\n",
      "https://front.wemakeprice.com/deal/610311696\n",
      "https://front.wemakeprice.com/deal/615140092\n",
      "https://front.wemakeprice.com/deal/606171572\n",
      "https://front.wemakeprice.com/deal/601980982\n",
      "https://front.wemakeprice.com/deal/602984138\n",
      "https://front.wemakeprice.com/deal/605060856\n",
      "https://front.wemakeprice.com/deal/615145774\n",
      "https://front.wemakeprice.com/deal/611738171\n",
      "https://front.wemakeprice.com/deal/613910056\n",
      "https://front.wemakeprice.com/deal/614458317\n",
      "https://front.wemakeprice.com/deal/614995735\n",
      "https://front.wemakeprice.com/deal/603101587\n",
      "https://front.wemakeprice.com/deal/609130985\n",
      "https://front.wemakeprice.com/deal/614544376\n",
      "https://front.wemakeprice.com/deal/600144606\n"
     ]
    }
   ],
   "source": [
    "driver = webdriver.Chrome('chromedriver')\n",
    "driver.implicitly_wait(3)\n",
    "driver.get('https://front.wemakeprice.com/best')\n",
    "\n",
    "# 1위 상품의 주소 \n",
    "target_selector = '#_contents > div > div > div.box_listwrap > div > div > a'\n",
    "result = driver.find_elements_by_css_selector(target_selector)\n",
    "\n",
    "# get_attribute('속성') => 값 \n",
    "# 하이퍼링크 주소 추출 \n",
    "print(result[0].get_attribute('href'))\n",
    "\n",
    "link_list = []\n",
    "for item in result:\n",
    "    link_list.append(item.get_attribute('href'))\n",
    "\n",
    "print('-'*50)     \n",
    "for item in link_list:\n",
    "    print(item)"
   ]
  },
  {
   "cell_type": "code",
   "execution_count": 4,
   "metadata": {},
   "outputs": [
    {
     "data": {
      "text/plain": [
       "('result01.png', <http.client.HTTPMessage at 0x1acb4f68760>)"
      ]
     },
     "execution_count": 4,
     "metadata": {},
     "output_type": "execute_result"
    }
   ],
   "source": [
    "driver = webdriver.Chrome('chromedriver')\n",
    "driver.implicitly_wait(3)\n",
    "\n",
    "url = link_list[0]\n",
    "driver.get(url)\n",
    "\n",
    "target_img = '#_contents > div.content_main.items > div.dinfo_box.clear > div.info_thumnail > div > div.info_img_wrap > div.info_img > img'\n",
    "img_src = driver.find_elements_by_css_selector(target_img)[0].get_attribute(\"src\")\n",
    "saveImgFile = 'result01.png'\n",
    "urlretrieve(img_src, saveImgFile)"
   ]
  },
  {
   "cell_type": "code",
   "execution_count": 7,
   "metadata": {},
   "outputs": [
    {
     "name": "stdout",
     "output_type": "stream",
     "text": [
      "0  이미지가 저장되었습니다.\n",
      "1  이미지가 저장되었습니다.\n",
      "2  이미지가 저장되었습니다.\n",
      "3  이미지가 저장되었습니다.\n",
      "4  이미지가 저장되었습니다.\n",
      "5  이미지가 저장되었습니다.\n",
      "6  이미지가 저장되었습니다.\n",
      "7  이미지가 저장되었습니다.\n",
      "8  이미지가 저장되었습니다.\n",
      "9  이미지가 저장되었습니다.\n"
     ]
    }
   ],
   "source": [
    "def wmf6():\n",
    "    driver = webdriver.Chrome('chromedriver')\n",
    "    for i in range(10) :\n",
    "        # url 에 접근\n",
    "        driver.get('https://front.wemakeprice.com/best')\n",
    "        # 순위 리스트 생성\n",
    "        # find_elements_by_css_selector(CSS_Selector)\n",
    "\n",
    "        target_page_selector = '#_contents > div > div > div.box_listwrap > div > div:nth-child(' + str(i+1) + ')> a'\n",
    "        result = driver.find_elements_by_css_selector(target_page_selector)\n",
    "        # print(result[0].get_attribute('href'))\n",
    "        driver.find_element_by_css_selector(target_page_selector).click()\n",
    "\n",
    "        target_img = '#_contents > div.content_main.items > div.dinfo_box.clear > div.info_thumnail > div > div.info_img_wrap > div.info_img > img'\n",
    "        img_src = driver.find_elements_by_css_selector(target_img)[0].get_attribute(\"src\")\n",
    "        saveImg = 'item_' + str(i+1) + '.png'\n",
    "        urlretrieve(img_src, saveImg)\n",
    "        print(i , ' 이미지가 저장되었습니다.')\n",
    "\n",
    "\n",
    "wmf6()"
   ]
  },
  {
   "cell_type": "code",
   "execution_count": null,
   "metadata": {},
   "outputs": [],
   "source": []
  },
  {
   "cell_type": "code",
   "execution_count": null,
   "metadata": {},
   "outputs": [],
   "source": []
  }
 ],
 "metadata": {
  "kernelspec": {
   "display_name": "Python 3",
   "language": "python",
   "name": "python3"
  },
  "language_info": {
   "codemirror_mode": {
    "name": "ipython",
    "version": 3
   },
   "file_extension": ".py",
   "mimetype": "text/x-python",
   "name": "python",
   "nbconvert_exporter": "python",
   "pygments_lexer": "ipython3",
   "version": "3.8.5"
  }
 },
 "nbformat": 4,
 "nbformat_minor": 4
}

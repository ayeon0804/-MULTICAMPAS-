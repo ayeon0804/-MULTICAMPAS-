{
 "cells": [
  {
   "cell_type": "code",
   "execution_count": 303,
   "metadata": {
    "slideshow": {
     "slide_type": "slide"
    }
   },
   "outputs": [],
   "source": [
    "import pandas as pd\n",
    "\n",
    "import warnings\n",
    "warnings.filterwarnings(action='ignore')"
   ]
  },
  {
   "cell_type": "code",
   "execution_count": 421,
   "metadata": {
    "scrolled": true
   },
   "outputs": [],
   "source": [
    "# 필요데이터만 뽑아서 df불러오기\n",
    "def read_data(year,month):\n",
    "    if month < 10:\n",
    "        month = '0' + str(month)\n",
    "    data_name = 'data/' + str(year) + str(month) + '.csv'\n",
    "    df = pd.read_csv(data_name, encoding='cp949', header=None)\n",
    "    df = df.iloc[:, [0,2,5,6]]\n",
    "    weight_name = str(year) + '-' + str(month) + '중량'\n",
    "    price_name = str(year) + '-' + str(month) + '금액'\n",
    "    df.columns = ['AGCODE','품목', weight_name, price_name]\n",
    "    \n",
    "    # 2016~2019년 데이터에서 품목컬럼에서 NAN값 존재하여 다음 코드 실행에 오류발생\n",
    "    # -> 확인결과 AGCODE : 169220450 값으로 제거대상이므로 삭제\n",
    "    df.dropna(inplace=True)\n",
    "\n",
    "    # 농산물 데이터만 가져오기 : ASCODE -> 1로 시작\n",
    "    df.AGCODE = df.AGCODE.astype(str)\n",
    "    df = df[df.AGCODE.str.startswith('1')]\n",
    "    \n",
    "        \n",
    "    # 중분류 데이터 가져오기\n",
    "    df = df[df.AGCODE.str.len()==3]\n",
    "\n",
    "\n",
    "    # 필요없는 데이터 제거\n",
    "    drop_items = ['114', '119', '131', '132', '134', '137', '139', '141', '142', '144', '151', '152', '153', '155', '156',\n",
    "                 '158', '159', '161', '169', '170', '171', '174']\n",
    "    for item in drop_items:\n",
    "        df = df.drop(df[df.AGCODE.str.startswith(item)].index)\n",
    "\n",
    "    # 중량, 금액 타입 변환\n",
    "    df[weight_name] = df[weight_name].str.replace(',','')\n",
    "    df[price_name] = df[price_name].str.replace(',','')\n",
    "    df[[weight_name, price_name]] = df[[weight_name, price_name]].apply(pd.to_numeric)\n",
    "    \n",
    "    return df"
   ]
  },
  {
   "cell_type": "code",
   "execution_count": 405,
   "metadata": {},
   "outputs": [],
   "source": [
    "# 년도별로 df 병합시켜주는 함수\n",
    "def merge_data(year):\n",
    "    df = read_data(year,1)\n",
    "    for i in range(2,13):\n",
    "        df2 = read_data(year,i)\n",
    "        df = pd.merge(df, df2, how = 'outer')\n",
    "    return df"
   ]
  },
  {
   "cell_type": "code",
   "execution_count": 432,
   "metadata": {},
   "outputs": [],
   "source": [
    "# 품목 이름 정리 ( -계 제거 ) 함수\n",
    "def substr(df):\n",
    "    df['품목'] = df['품목'].str[:-2]\n",
    "    return df"
   ]
  },
  {
   "cell_type": "markdown",
   "metadata": {},
   "source": [
    "### 코드\n",
    "- 111 : 곡류  \n",
    "- 112 : 서류  \n",
    "- 113 : 두류  \n",
    "- 115 : 채유종실  \n",
    "- 116 : 과실류  \n",
    "- 121 : 채소류  \n",
    "- 123 : 버섯류  \n",
    "- 143 : 소스류  \n",
    "- 157 : 주류  \n",
    "- 162 : 면류  "
   ]
  },
  {
   "cell_type": "code",
   "execution_count": 429,
   "metadata": {},
   "outputs": [],
   "source": [
    "# 2016 ~ 2020년 df 생성\n",
    "df_2020 = substr(merge_data(2020))\n",
    "df_2019 = substr(merge_data(2019))\n",
    "df_2018 = substr(merge_data(2018))\n",
    "df_2017 = substr(merge_data(2017))\n",
    "df_2016 = substr(merge_data(2016))"
   ]
  },
  {
   "cell_type": "code",
   "execution_count": 439,
   "metadata": {},
   "outputs": [],
   "source": [
    "df_2020.to_csv('data/농산물_df_2020.csv', index = False)\n",
    "df_2019.to_csv('data/농산물_df_2019.csv', index = False)\n",
    "df_2018.to_csv('data/농산물_df_2018.csv', index = False)\n",
    "df_2017.to_csv('data/농산물_df_2017.csv', index = False)\n",
    "df_2016.to_csv('data/농산물_df_2016.csv', index = False)"
   ]
  }
 ],
 "metadata": {
  "kernelspec": {
   "display_name": "Python 3",
   "language": "python",
   "name": "python3"
  },
  "language_info": {
   "codemirror_mode": {
    "name": "ipython",
    "version": 3
   },
   "file_extension": ".py",
   "mimetype": "text/x-python",
   "name": "python",
   "nbconvert_exporter": "python",
   "pygments_lexer": "ipython3",
   "version": "3.8.5"
  }
 },
 "nbformat": 4,
 "nbformat_minor": 4
}
